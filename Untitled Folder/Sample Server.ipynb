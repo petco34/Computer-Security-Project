{
 "cells": [
  {
   "cell_type": "code",
   "execution_count": null,
   "metadata": {},
   "outputs": [],
   "source": [
    "import socket\n",
    "import sys"
   ]
  },
  {
   "cell_type": "code",
   "execution_count": null,
   "metadata": {},
   "outputs": [],
   "source": [
    "s = socket.socket(socket.AF_INET, socket.SOCK_STREAM)"
   ]
  },
  {
   "cell_type": "code",
   "execution_count": null,
   "metadata": {},
   "outputs": [],
   "source": [
    "ip = socket.gethostbyname(\"wwww.google.com\")\n",
    "print (ip)"
   ]
  },
  {
   "cell_type": "code",
   "execution_count": null,
   "metadata": {},
   "outputs": [],
   "source": [
    "try:\n",
    "    s = socket.socket(socket.AF_INET, socket.SOCK_STREAM)\n",
    "except socket.error as err:\n",
    "    print (\"socket creation failed with error\")\n",
    "    \n",
    "port = 80\n",
    "\n",
    "try:\n",
    "    host_ip = socket.gethostbyname(\"www.google.com\")\n",
    "except socket.gaierror:\n",
    "    print(\"There was an error resolving the host\")\n",
    "    sys.exit()\n",
    "    \n",
    "s.connect((host_ip, port))\n",
    "\n",
    "print(\"The socket has successfully connected to google on port, \",host_ip)"
   ]
  },
  {
   "cell_type": "code",
   "execution_count": null,
   "metadata": {},
   "outputs": [
    {
     "name": "stdout",
     "output_type": "stream",
     "text": [
      "Socket Successfully created\n",
      "Socket binded to  12345\n",
      "Socket is listening\n",
      "Got connection from  ('127.0.0.1', 53268)\n"
     ]
    }
   ],
   "source": [
    "import socket\n",
    "\n",
    "s = socket.socket()\n",
    "print(\"Socket Successfully created\")\n",
    "\n",
    "port = 12345\n",
    "\n",
    "#bind the server to the port, we have not typed any ip \n",
    "#into the field, instead we have inputted an empty string\n",
    "#this makes the server listen to requests \n",
    "#coming from other computers on the network\n",
    "\n",
    "s.bind(('',port))\n",
    "print(\"Socket binded to \",port)\n",
    "\n",
    "s.listen(5)\n",
    "print(\"Socket is listening\")\n",
    "\n",
    "while True:\n",
    "    \n",
    "    #establish connection with the client\n",
    "    connection, addr = s.accept()\n",
    "    print(\"Got connection from \", addr)\n",
    "    encode = \"Thank you for connectng\".encode()\n",
    "    connection.send(encode)\n",
    "    \n",
    "    connection.close()"
   ]
  },
  {
   "cell_type": "code",
   "execution_count": null,
   "metadata": {},
   "outputs": [],
   "source": [
    "import socket\n",
    "\n",
    "s = socket.socket()\n",
    "\n",
    "port = 12345\n",
    "\n",
    "s.connect((\"127.0.0.1\", port))\n",
    "\n",
    "print (s.recv(1024))\n",
    "\n",
    "s.close()"
   ]
  },
  {
   "cell_type": "code",
   "execution_count": null,
   "metadata": {},
   "outputs": [],
   "source": []
  }
 ],
 "metadata": {
  "kernelspec": {
   "display_name": "Python 3",
   "language": "python",
   "name": "python3"
  },
  "language_info": {
   "codemirror_mode": {
    "name": "ipython",
    "version": 3
   },
   "file_extension": ".py",
   "mimetype": "text/x-python",
   "name": "python",
   "nbconvert_exporter": "python",
   "pygments_lexer": "ipython3",
   "version": "3.7.3"
  }
 },
 "nbformat": 4,
 "nbformat_minor": 2
}
