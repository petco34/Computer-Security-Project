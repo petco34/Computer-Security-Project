{
 "cells": [
  {
   "cell_type": "code",
   "execution_count": 1,
   "metadata": {},
   "outputs": [],
   "source": [
    "import json\n",
    "import requests"
   ]
  },
  {
   "cell_type": "code",
   "execution_count": 2,
   "metadata": {},
   "outputs": [],
   "source": [
    "response = requests.get(\"https://jsonplaceholder.typicode.com/todos\")"
   ]
  },
  {
   "cell_type": "code",
   "execution_count": 5,
   "metadata": {},
   "outputs": [],
   "source": [
    "new_json = json.loads(response.text)"
   ]
  },
  {
   "cell_type": "code",
   "execution_count": 8,
   "metadata": {},
   "outputs": [
    {
     "name": "stdout",
     "output_type": "stream",
     "text": [
      "[{'userId': 1, 'id': 1, 'title': 'delectus aut autem', 'completed': False}, {'userId': 1, 'id': 2, 'title': 'quis ut nam facilis et officia qui', 'completed': False}, {'userId': 1, 'id': 3, 'title': 'fugiat veniam minus', 'completed': False}, {'userId': 1, 'id': 4, 'title': 'et porro tempora', 'completed': True}, {'userId': 1, 'id': 5, 'title': 'laboriosam mollitia et enim quasi adipisci quia provident illum', 'completed': False}, {'userId': 1, 'id': 6, 'title': 'qui ullam ratione quibusdam voluptatem quia omnis', 'completed': False}, {'userId': 1, 'id': 7, 'title': 'illo expedita consequatur quia in', 'completed': False}, {'userId': 1, 'id': 8, 'title': 'quo adipisci enim quam ut ab', 'completed': True}, {'userId': 1, 'id': 9, 'title': 'molestiae perspiciatis ipsa', 'completed': False}, {'userId': 1, 'id': 10, 'title': 'illo est ratione doloremque quia maiores aut', 'completed': True}]\n"
     ]
    }
   ],
   "source": [
    "print(new_json[:10])"
   ]
  },
  {
   "cell_type": "code",
   "execution_count": 32,
   "metadata": {},
   "outputs": [],
   "source": [
    "b = response.json()"
   ]
  },
  {
   "cell_type": "code",
   "execution_count": 35,
   "metadata": {},
   "outputs": [
    {
     "name": "stdout",
     "output_type": "stream",
     "text": [
      "{'userId': 1, 'id': 4, 'title': 'et porro tempora', 'completed': True}\n",
      "{'userId': 1, 'id': 8, 'title': 'quo adipisci enim quam ut ab', 'completed': True}\n",
      "{'userId': 1, 'id': 10, 'title': 'illo est ratione doloremque quia maiores aut', 'completed': True}\n",
      "{'userId': 1, 'id': 11, 'title': 'vero rerum temporibus dolor', 'completed': True}\n",
      "{'userId': 1, 'id': 12, 'title': 'ipsa repellendus fugit nisi', 'completed': True}\n",
      "{'userId': 1, 'id': 14, 'title': 'repellendus sunt dolores architecto voluptatum', 'completed': True}\n",
      "{'userId': 1, 'id': 15, 'title': 'ab voluptatum amet voluptas', 'completed': True}\n",
      "{'userId': 1, 'id': 16, 'title': 'accusamus eos facilis sint et aut voluptatem', 'completed': True}\n",
      "{'userId': 1, 'id': 17, 'title': 'quo laboriosam deleniti aut qui', 'completed': True}\n",
      "{'userId': 1, 'id': 19, 'title': 'molestiae ipsa aut voluptatibus pariatur dolor nihil', 'completed': True}\n",
      "{'userId': 1, 'id': 20, 'title': 'ullam nobis libero sapiente ad optio sint', 'completed': True}\n",
      "{'userId': 2, 'id': 22, 'title': 'distinctio vitae autem nihil ut molestias quo', 'completed': True}\n",
      "{'userId': 2, 'id': 25, 'title': 'voluptas quo tenetur perspiciatis explicabo natus', 'completed': True}\n",
      "{'userId': 2, 'id': 26, 'title': 'aliquam aut quasi', 'completed': True}\n",
      "{'userId': 2, 'id': 27, 'title': 'veritatis pariatur delectus', 'completed': True}\n",
      "{'userId': 2, 'id': 30, 'title': 'nemo perspiciatis repellat ut dolor libero commodi blanditiis omnis', 'completed': True}\n",
      "{'userId': 2, 'id': 35, 'title': 'repellendus veritatis molestias dicta incidunt', 'completed': True}\n",
      "{'userId': 2, 'id': 36, 'title': 'excepturi deleniti adipisci voluptatem et neque optio illum ad', 'completed': True}\n",
      "{'userId': 2, 'id': 40, 'title': 'totam atque quo nesciunt', 'completed': True}\n",
      "{'userId': 3, 'id': 43, 'title': 'tempore ut sint quis recusandae', 'completed': True}\n",
      "{'userId': 3, 'id': 44, 'title': 'cum debitis quis accusamus doloremque ipsa natus sapiente omnis', 'completed': True}\n",
      "{'userId': 3, 'id': 50, 'title': 'cupiditate necessitatibus ullam aut quis dolor voluptate', 'completed': True}\n"
     ]
    }
   ],
   "source": [
    "poo = b[:50]\n",
    "for x in poo:\n",
    "    if x[\"completed\"]:\n",
    "        print(x)"
   ]
  },
  {
   "cell_type": "code",
   "execution_count": 31,
   "metadata": {},
   "outputs": [
    {
     "name": "stdout",
     "output_type": "stream",
     "text": [
      "This is where it did something:  {'userId': 1, 'id': 4, 'title': 'et porro tempora', 'completed': True}\n",
      "This is where it did something:  {'userId': 2, 'id': 22, 'title': 'distinctio vitae autem nihil ut molestias quo', 'completed': True}\n",
      "This is where it did something:  {'userId': 3, 'id': 43, 'title': 'tempore ut sint quis recusandae', 'completed': True}\n"
     ]
    }
   ],
   "source": [
    "todos_by_user = {}\n",
    "for x in poo:\n",
    "    if x[\"completed\"]:\n",
    "        try:\n",
    "            todos_by_user[x[\"userId\"]] += 1\n",
    "        except KeyError:\n",
    "            print(\"This is where it did something: \", x)\n",
    "            todos_by_user[x[\"userId\"]] = 1\n",
    "            "
   ]
  },
  {
   "cell_type": "code",
   "execution_count": 30,
   "metadata": {},
   "outputs": [
    {
     "name": "stdout",
     "output_type": "stream",
     "text": [
      "{1: 11, 2: 8, 3: 3}\n"
     ]
    }
   ],
   "source": [
    "print(todos_by_user)"
   ]
  },
  {
   "cell_type": "code",
   "execution_count": null,
   "metadata": {},
   "outputs": [],
   "source": [
    "print"
   ]
  }
 ],
 "metadata": {
  "kernelspec": {
   "display_name": "Python 3",
   "language": "python",
   "name": "python3"
  },
  "language_info": {
   "codemirror_mode": {
    "name": "ipython",
    "version": 3
   },
   "file_extension": ".py",
   "mimetype": "text/x-python",
   "name": "python",
   "nbconvert_exporter": "python",
   "pygments_lexer": "ipython3",
   "version": "3.7.3"
  }
 },
 "nbformat": 4,
 "nbformat_minor": 2
}
